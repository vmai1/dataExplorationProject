{
 "cells": [
  {
   "cell_type": "markdown",
   "metadata": {},
   "source": [
    "# Team Project - Kickstarter Project\n",
    "\n",
    "* Author: Julia Hammerer, Vanessa Mai\n",
    "* Last Update: 15.06.2018\n",
    "\n",
    "\n",
    "\n",
    "## Project Description\n",
    "In this project we will look at a list of Crowdfunding Projects pulled from the Kickstarter website in 2018. Analysis will be mainly Data Explorations on the Project and may include (but not exclusively)\n",
    "* compare successful and failed projects per country, and category\n",
    "* look at size/funding amount of projects\n",
    "* what's the value of successful projects, are there differences to failed ones?\n",
    "* time series analysis \n",
    "* how much do people donate to projects in average"
   ]
  },
  {
   "cell_type": "markdown",
   "metadata": {},
   "source": [
    "Here we will import all packages required for our analysis"
   ]
  },
  {
   "cell_type": "code",
   "execution_count": null,
   "metadata": {},
   "outputs": [],
   "source": [
    "import pandas as pd\n",
    "from datetime import datetime\n",
    "import numpy as np"
   ]
  },
  {
   "cell_type": "markdown",
   "metadata": {},
   "source": [
    "## First Look on the data and data cleansing\n",
    "\n",
    "Then first of all we import our csv file as a pandas dataframe\n"
   ]
  },
  {
   "cell_type": "code",
   "execution_count": null,
   "metadata": {},
   "outputs": [],
   "source": [
    "ks_raw=pd.read_csv(\"ks-projects-201801.csv\")"
   ]
  },
  {
   "cell_type": "code",
   "execution_count": null,
   "metadata": {
    "scrolled": true
   },
   "outputs": [],
   "source": [
    "ks_raw"
   ]
  },
  {
   "cell_type": "markdown",
   "metadata": {},
   "source": [
    "When looking at the data we see that there are several fields with amounts (=pledged). The fields \"pledged\" and \"goal\" are in the original currency. There is also \"usd pledged\", usd_pledged_real\", \"uds_goal_real\". \"usd pledged\" is the amount converted to us-dollar by Kickstarter. According to the description from Kaggle \"usd_pledged_real\" and \"usd_goal_real\" are converted using fixer.io by tonyplaysguitar. \n",
    "We'll use these fields, as this also have the \"goal\" in US-Dollars and we remove the other columns\n"
   ]
  },
  {
   "cell_type": "code",
   "execution_count": null,
   "metadata": {
    "scrolled": true
   },
   "outputs": [],
   "source": [
    "# remove unused columns, we don't need name and id, and the mentioned amounts\n",
    "# we also do not need currency, as we have everything in US-Dollar\n",
    "ks=ks_raw.drop([\"ID\", \"name\", \"goal\", \"pledged\", \"usd pledged\", \"currency\"], axis=1)\n",
    "\n",
    "# we take a look at the datatypes, to look if we need to convert any fields to the appropriate data type\n",
    "ks.dtypes "
   ]
  },
  {
   "cell_type": "markdown",
   "metadata": {},
   "source": [
    "We see that all the fields, that we need in a numeric form, are already automatically detected by python as numeric. \n",
    "However, to use the dates correctly, we need to convert launched and deadline into a datetime-datatype"
   ]
  },
  {
   "cell_type": "code",
   "execution_count": null,
   "metadata": {},
   "outputs": [],
   "source": [
    "ks[\"launched\"] = pd.to_datetime(ks[\"launched\"], infer_datetime_format=True)\n",
    "ks[\"deadline\"] = pd.to_datetime(ks[\"deadline\"], infer_datetime_format=True)"
   ]
  },
  {
   "cell_type": "code",
   "execution_count": null,
   "metadata": {
    "scrolled": false
   },
   "outputs": [],
   "source": [
    "# check for open projects\n",
    "closed=ks[\"deadline\"]>ks[\"launched\"]\n",
    "closed.value_counts()"
   ]
  },
  {
   "cell_type": "markdown",
   "metadata": {},
   "source": [
    "We see that we only have closed projects here. As a prospect, we could include open projects and do a prediction on whether a project will be successful or not. Next step is to look at the data more closely and see some basic information on the data. For this we use the package pandas-profiling. See documenation [here](https://github.com/pandas-profiling/pandas-profiling)\n"
   ]
  },
  {
   "cell_type": "code",
   "execution_count": null,
   "metadata": {},
   "outputs": [],
   "source": [
    "import pandas_profiling"
   ]
  },
  {
   "cell_type": "code",
   "execution_count": null,
   "metadata": {
    "scrolled": true
   },
   "outputs": [],
   "source": [
    "pandas_profiling.ProfileReport(ks)"
   ]
  },
  {
   "cell_type": "code",
   "execution_count": null,
   "metadata": {},
   "outputs": [],
   "source": [
    "# We also look at some other descriptive statistics\n",
    "ks.describe()"
   ]
  },
  {
   "cell_type": "markdown",
   "metadata": {},
   "source": [
    "So we have a basic summary first. The data seems to be complete, there are no missing values, so we do not have to deal with that. However, if we look closely at **\"launched\"**, which is the launch-day of a product, we can see that there are some in 1970. These might be missing values, so we have to think about what to do with that. As we have plenty records (~380 000) and the number of those observations are relatively low, it is enough if we just remove those observations\n",
    "\n",
    "Another thing is, that the cardinality of **\"category\"** is very high, meaning there are many different values. If in the end, the number of observations per category is too small, it might not make much sense to explore them further. We will elaborate on that later more closely.\n",
    "\n",
    "The **countries** are only displayed with their country code. We need to convert them to proper country names for better readability, later on also possibly some geocoding, and thus using maps for visualizations and such things. We will also elaborate on that later.\n",
    "\n",
    "Pandas_Profiling also provides a really quick **Correlation Analysis**. We can see a high positive correlation between backers und pledged amount, which makes perfect sense, so this does not give us particularly interesting information. In fact, it is more interesting to see the average amount that backers give for the projects. Thus, we'll look into this later."
   ]
  },
  {
   "cell_type": "code",
   "execution_count": null,
   "metadata": {},
   "outputs": [],
   "source": [
    "## remove the rows with launched in 1970, as these are default values for missing entries\n",
    "ks = ks[(ks[\"launched\"].dt.year > 1970)]"
   ]
  },
  {
   "cell_type": "markdown",
   "metadata": {},
   "source": [
    "We need to map the country code to the proper country names for better readability. Thus, we're using a file that includes the 2-digits code and the country name and we use this for mapping (file found [here](https://datahub.io/core/country-list#resource-data))"
   ]
  },
  {
   "cell_type": "code",
   "execution_count": null,
   "metadata": {},
   "outputs": [],
   "source": [
    "# read in a mapping file for countries\n",
    "country_mapping=pd.read_csv(\"country.csv\")"
   ]
  },
  {
   "cell_type": "code",
   "execution_count": null,
   "metadata": {
    "scrolled": true
   },
   "outputs": [],
   "source": [
    "country_mapping"
   ]
  },
  {
   "cell_type": "code",
   "execution_count": null,
   "metadata": {},
   "outputs": [],
   "source": [
    "# we'll do a left outer join, with our Kickstarter-Projectlist being left\n",
    "ks= pd.merge(ks,country_mapping, how=\"left\", left_on=\"country\", right_on=\"Code\" )\n",
    "\n",
    "# we can see that the names are now properly written out\n",
    "# but we'll need to remove the joining columns and rename the Country column from \"Name\" to \"Country\"\n",
    "ks= ks.drop([\"country\", \"Code\"], axis=1)\n",
    "ks=ks.rename(columns={\"Name\": \"Country\"})\n",
    "ks.tail()"
   ]
  },
  {
   "cell_type": "code",
   "execution_count": null,
   "metadata": {},
   "outputs": [],
   "source": [
    "# let's have a look at which countries we have:\n",
    "print(ks.Country.unique())"
   ]
  },
  {
   "cell_type": "markdown",
   "metadata": {},
   "source": [
    "We can see, that there is also \"nan\", so we had values which could not be mapped. We also looked into the raw data and saw the value \"N,0\"\". This seems like a data quality issue. We can either remove the data or leave it in with the country value missing. \n",
    "We'll look into how many there are, if it is not too much, we can just remove it:"
   ]
  },
  {
   "cell_type": "code",
   "execution_count": null,
   "metadata": {},
   "outputs": [],
   "source": [
    "# How many are \"missing\" in Country\n",
    "print((ks.Country.isna()).sum())"
   ]
  },
  {
   "cell_type": "markdown",
   "metadata": {},
   "source": [
    "3797 out of more than 300 000 is not much, so we can remove them without much concern."
   ]
  },
  {
   "cell_type": "code",
   "execution_count": null,
   "metadata": {},
   "outputs": [],
   "source": [
    "# remove of nan rows in Country\n",
    "ks = ks[(ks[\"Country\"].notna())]"
   ]
  },
  {
   "cell_type": "markdown",
   "metadata": {},
   "source": [
    "## Distributions"
   ]
  },
  {
   "cell_type": "code",
   "execution_count": null,
   "metadata": {},
   "outputs": [],
   "source": [
    "import matplotlib.pyplot as plt\n",
    "%matplotlib inline\n",
    "import seaborn as sns"
   ]
  },
  {
   "cell_type": "markdown",
   "metadata": {},
   "source": [
    "### Distribution of Project Status\n",
    "First we take a look at the distribution of the status of the Projects\n"
   ]
  },
  {
   "cell_type": "code",
   "execution_count": null,
   "metadata": {
    "scrolled": false
   },
   "outputs": [],
   "source": [
    "fig, ax = plt.subplots()\n",
    "fig.set_size_inches(10, 10)\n",
    "sns.countplot(x=\"state\",data=ks, ax=ax,palette=\"Paired\")\n"
   ]
  },
  {
   "cell_type": "markdown",
   "metadata": {},
   "source": [
    "In this plot the number of projects and their respective status are displayed.\n",
    "We can see that most Projects have failed. The values \"live\", \"undefined\" and \"suspended\" have the least values and their status is not clear, there is no proper description on the source of the data (Kaggle) either. So these values will be removed in the next step. We concentrate on the more meaningful values \"failed\", \"canceled\" and \"successful\"\n",
    "Next we analyse the rate of success."
   ]
  },
  {
   "cell_type": "code",
   "execution_count": null,
   "metadata": {},
   "outputs": [],
   "source": [
    "# Removing Rows\n",
    "ks= ks[ks.state != \"live\"]\n",
    "ks= ks[ks.state != \"undefined\"]\n",
    "ks= ks[ks.state != \"suspended\"]"
   ]
  },
  {
   "cell_type": "code",
   "execution_count": null,
   "metadata": {
    "scrolled": true
   },
   "outputs": [],
   "source": [
    "# Success rate\n",
    "success_rate = (ks.state == 'successful').sum()/len(ks.index)\n",
    "print(success_rate)"
   ]
  },
  {
   "cell_type": "markdown",
   "metadata": {},
   "source": [
    "Rougly 36% of all Projects, this dataset are won. \n",
    "As one of the next steps, we try to find out differences between failed and cancelled."
   ]
  },
  {
   "cell_type": "markdown",
   "metadata": {},
   "source": [
    "### Distribution of the Main Category"
   ]
  },
  {
   "cell_type": "code",
   "execution_count": null,
   "metadata": {
    "scrolled": false
   },
   "outputs": [],
   "source": [
    "fig, ax = plt.subplots()\n",
    "fig.set_size_inches(15, 10)\n",
    "sns.countplot(x=\"main_category\",data=ks, ax=ax, order = ks['main_category'].value_counts().index)"
   ]
  },
  {
   "cell_type": "markdown",
   "metadata": {},
   "source": [
    "We have a deeper look at the distribution of categories and main categories"
   ]
  },
  {
   "cell_type": "code",
   "execution_count": null,
   "metadata": {
    "scrolled": true
   },
   "outputs": [],
   "source": [
    "ks.groupby(\"main_category\")[\"category\"].value_counts()"
   ]
  },
  {
   "cell_type": "markdown",
   "metadata": {},
   "source": [
    " How is the distribution of failed,canceld or successful Projects in each category?"
   ]
  },
  {
   "cell_type": "code",
   "execution_count": null,
   "metadata": {
    "scrolled": false
   },
   "outputs": [],
   "source": [
    "fig, ax = plt.subplots()\n",
    "fig.set_size_inches(15, 10)\n",
    "sns.countplot(x=\"main_category\",hue=\"state\",data=ks, ax=ax, palette=\"Paired\")"
   ]
  },
  {
   "cell_type": "markdown",
   "metadata": {},
   "source": [
    "How many entries in the dataset are from which country?"
   ]
  },
  {
   "cell_type": "code",
   "execution_count": null,
   "metadata": {
    "scrolled": true
   },
   "outputs": [],
   "source": [
    "fig, ax = plt.subplots()\n",
    "fig.set_size_inches(15, 10)\n",
    "sns.countplot(y=\"Country\",data=ks,order = ks['Country'].value_counts().index,ax=ax)"
   ]
  },
  {
   "cell_type": "markdown",
   "metadata": {},
   "source": [
    "### Distribution of the Project state across the countries"
   ]
  },
  {
   "cell_type": "code",
   "execution_count": null,
   "metadata": {
    "scrolled": true
   },
   "outputs": [],
   "source": [
    "fig, ax = plt.subplots()\n",
    "fig.set_size_inches(15, 10)\n",
    "sns.countplot(y=\"Country\",hue=\"state\",data=ks, ax=ax, palette=\"Paired\")"
   ]
  },
  {
   "cell_type": "markdown",
   "metadata": {},
   "source": [
    "### How many backers do the projects have in each country?"
   ]
  },
  {
   "cell_type": "code",
   "execution_count": null,
   "metadata": {
    "scrolled": false
   },
   "outputs": [],
   "source": [
    "fig, ax = plt.subplots()\n",
    "fig.set_size_inches(15, 10)\n",
    "sns.barplot(y=\"Country\",x=\"backers\",data=ks,ci=None, ax=ax)\n",
    "plt.show()"
   ]
  },
  {
   "cell_type": "code",
   "execution_count": null,
   "metadata": {},
   "outputs": [],
   "source": [
    "print(\"Minimal goal value:\", ks[\"usd_goal_real\"].min())\n",
    "print(\"Mean goal value:\", ks[\"usd_goal_real\"].mean())\n",
    "print(\"Maximum goal value:\", ks[\"usd_goal_real\"].max())"
   ]
  },
  {
   "cell_type": "markdown",
   "metadata": {},
   "source": [
    "## Project Sizes\n",
    "After having a look at various counts of the Projects, we need to see the sizes of those projects. \n",
    "e.g. What are the goals of the projects in various categories?\n"
   ]
  },
  {
   "cell_type": "code",
   "execution_count": null,
   "metadata": {
    "scrolled": false
   },
   "outputs": [],
   "source": [
    "fig, ax = plt.subplots()\n",
    "fig.set_size_inches(10, 10)\n",
    "plt.yscale(\"log\")\n",
    "# plt.xscale(\"log\")\n",
    "\n",
    "plt.boxplot(ks.usd_goal_real)\n",
    "# sns.distplot(x, kde=False, rug=True);"
   ]
  },
  {
   "cell_type": "markdown",
   "metadata": {},
   "source": [
    "In the first histogram showing the goal of the projects in the Profile Report, we don't see much. We only saw, that the USD_goal is highly skewed. Here, we produced a boxplot with a logarithmic scale to see the data better. The biggest fraction of all projects' goals are between **1000** and **100000**. Let's create another histogram for those projects to see the distribution within that fraction better. "
   ]
  },
  {
   "cell_type": "code",
   "execution_count": null,
   "metadata": {},
   "outputs": [],
   "source": [
    "ks_mostCommon = ks[((ks[\"usd_goal_real\"]<100000) & (ks[\"usd_goal_real\"]>1000)) ]\n",
    "print(\"Projects between 1000 - 1000000 as a goal: \",len(ks_small.index))\n",
    "print(\"Total Projects: \",len(ks.index))\n"
   ]
  },
  {
   "cell_type": "code",
   "execution_count": null,
   "metadata": {
    "scrolled": false
   },
   "outputs": [],
   "source": [
    "fig, ax = plt.subplots()\n",
    "fig.set_size_inches(10, 10)\n",
    "# plt.yscale(\"log\")\n",
    "# plt.xscale(\"log\")\n",
    "plt.rcParams[\"patch.force_edgecolor\"] = True\n",
    "\n",
    "\n",
    "sns.distplot(ks_small.usd_goal_real, bins=60, kde = False, hist_kws=dict(edgecolor=\"black\"))\n",
    "# sns.distplot(x, kde=False, rug=True);\n",
    "\n",
    "plt.show()"
   ]
  },
  {
   "cell_type": "markdown",
   "metadata": {},
   "source": [
    "### Project Sizes per Main Category\n",
    "We want to also see if there are bigger differences between the different main categories. As, the categories have a very high cardinality, we don't look at it at this point."
   ]
  },
  {
   "cell_type": "code",
   "execution_count": null,
   "metadata": {
    "scrolled": true
   },
   "outputs": [],
   "source": [
    "plt.figure(figsize=(20,20))\n",
    "plt.yscale(\"log\")\n",
    "sns.boxplot(x=\"main_category\", y=\"usd_goal_real\",data=ks)\n"
   ]
  },
  {
   "cell_type": "markdown",
   "metadata": {},
   "source": [
    "In this plot, we can see more clearly the outliers of the main categories, which are existing in any main category. In general, we see that the range stays in around the same amount, with only \"Technology\" slightly sticking out for having higher goals. In \"Publishing\" and \"Art\" there are also projects with a very low goal. In summary, \"Publishing\", \"Crafts\" and \"Art\" have slightly lower goals, whereas \"Technology\" requires most donations. As the other plots, this is also on a logarithmic scale. \n",
    "\n"
   ]
  },
  {
   "cell_type": "markdown",
   "metadata": {},
   "source": [
    "### Project Sizes per Country\n",
    "Also, interesting would be to see if there are differences by counties:\n"
   ]
  },
  {
   "cell_type": "code",
   "execution_count": null,
   "metadata": {
    "scrolled": true
   },
   "outputs": [],
   "source": [
    "plt.figure(figsize=(20,20))\n",
    "plt.yscale(\"log\")\n",
    "sns.boxplot(x=\"Country\", y=\"usd_goal_real\",data=ks)\n"
   ]
  },
  {
   "cell_type": "markdown",
   "metadata": {},
   "source": [
    "There isn't much variation between the countries, except for US having some particularly low goals for some project. This isn't surprising though, as most projects come from USA.\n",
    "\n",
    "We want to see the average, median, and possibly other basic statistics for each category and country."
   ]
  },
  {
   "cell_type": "code",
   "execution_count": null,
   "metadata": {
    "scrolled": true
   },
   "outputs": [],
   "source": [
    "ks[[\"main_category\", \"usd_goal_real\"]].groupby(\"main_category\").describe().sort_values(by= ('usd_goal_real', 'mean'), ascending =False)"
   ]
  },
  {
   "cell_type": "code",
   "execution_count": null,
   "metadata": {
    "scrolled": true
   },
   "outputs": [],
   "source": [
    "ks[[\"Country\", \"usd_goal_real\"]].groupby(\"Country\").describe().sort_values(by= ('usd_goal_real', 'mean'), ascending =False)"
   ]
  },
  {
   "cell_type": "markdown",
   "metadata": {},
   "source": [
    "## Success Chances and Rates\n",
    "\n",
    "After seeing the distributions and values of the projects and having a feeling about the data, we want to see, what the success rates are and see if any attributes have any significant correlation with the outcome of the project. In the following, we will conduct some univariate analysis.\n",
    "\n",
    "First we want to add some more interesting values\n",
    "* Duration of the project: How much time between launch-day and deadline in days?\n",
    "* Ratio of Duration and goal: what would be the goal per day?\n",
    "* Delta pledged: how much more than the goal has been pledged or how much is missing?\n",
    "* Average pledged per backer: how much in average do people donate per project?\n",
    "* pledged rate: How much per day in average?"
   ]
  },
  {
   "cell_type": "code",
   "execution_count": null,
   "metadata": {},
   "outputs": [],
   "source": [
    "ks[\"project_length\"]=(ks[\"deadline\"]-ks[\"launched\"])/np.timedelta64(1, 'D')\n",
    "ks[\"goal_per_day\"]= ks[\"usd_goal_real\"]/ks[\"project_length\"]\n",
    "ks[\"pledged_delta\"]= ks[\"usd_pledged_real\"]-ks[\"usd_goal_real\"]\n",
    "ks[\"pledged_per_backer\"]=ks[\"usd_pledged_real\"]/ks[\"backers\"]\n",
    "ks[\"pledged_per_day\"]= ks[\"project_length\"]/ks[\"usd_pledged_real\"]"
   ]
  },
  {
   "cell_type": "code",
   "execution_count": null,
   "metadata": {},
   "outputs": [],
   "source": [
    "ks.describe()"
   ]
  },
  {
   "cell_type": "code",
   "execution_count": null,
   "metadata": {
    "scrolled": true
   },
   "outputs": [],
   "source": [
    "ks.head()"
   ]
  },
  {
   "cell_type": "markdown",
   "metadata": {},
   "source": [
    "First, we look into the projects goal again. \n",
    "This time with regard to the project status."
   ]
  },
  {
   "cell_type": "code",
   "execution_count": null,
   "metadata": {
    "scrolled": true
   },
   "outputs": [],
   "source": [
    "# plot project sizes with regard to project status\n",
    "# use log-scale again, for the highly skewed data\n",
    "plt.figure(figsize=(15,15))\n",
    "plt.yscale(\"log\")\n",
    "\n",
    "sns.boxplot(x=\"state\", y=\"usd_goal_real\",data=ks)\n"
   ]
  },
  {
   "cell_type": "markdown",
   "metadata": {},
   "source": [
    "We don't see a huge difference between the different statuses. Successful projects seem to have slightly smaller goals and much less and lower outliers.\n",
    "It looks like projects with a goal up to 100 000 USD, have a more realistic chance of being successful. We also look into this including the categories."
   ]
  },
  {
   "cell_type": "code",
   "execution_count": null,
   "metadata": {
    "scrolled": false
   },
   "outputs": [],
   "source": [
    "plt.figure(figsize=(20,20))\n",
    "plt.yscale(\"log\")\n",
    "sns.set(style=\"ticks\")\n",
    "sns.boxplot(x=\"main_category\", y=\"usd_goal_real\", hue=\"state\",data=ks, palette=\"Paired\")\n",
    "# sns.despine(offset=10, trim=True)\n"
   ]
  },
  {
   "cell_type": "markdown",
   "metadata": {},
   "source": [
    "In general, the successful projects in any category are more shifted towards having a lower goal. Expecially in \"Crafts\" and in \"Technology\" it can be nicely observerd. At this point we should also look at the relative successrate per category:"
   ]
  },
  {
   "cell_type": "code",
   "execution_count": null,
   "metadata": {
    "scrolled": false
   },
   "outputs": [],
   "source": [
    "# Success rate per category\n",
    "mainCategory_byState = ks.groupby('main_category').state.value_counts().unstack()\n",
    "success_rate_perCategory= mainCategory_byState.successful / (mainCategory_byState.successful + mainCategory_byState.canceled + mainCategory_byState.failed)\n",
    "success_rate_perCategory=success_rate_perCategory.sort_values(ascending=True)\n",
    "plt.figure(figsize=(20,10))\n",
    "\n",
    "success_rate_perCategory.plot(kind=\"barh\")"
   ]
  },
  {
   "cell_type": "markdown",
   "metadata": {},
   "source": [
    "Technologies are less successful, because they require high donations. Crafts and Journalism are also less successful, and also their goal tend to be higher. Here Particularly you can see the difference in the sizes.\n",
    "\n",
    "Next we look into the distribution of the project length. "
   ]
  },
  {
   "cell_type": "code",
   "execution_count": null,
   "metadata": {
    "scrolled": true
   },
   "outputs": [],
   "source": [
    "plt.figure(figsize=(15,15))\n",
    "sns.distplot(ks.project_length, bins=25, kde = False, hist_kws=dict(edgecolor=\"black\"))"
   ]
  },
  {
   "cell_type": "markdown",
   "metadata": {},
   "source": [
    "We see a nicely shaped distribution, with most projects having a length of approximately 30 days/ 1 month. There is another smaller peak at 60 days/ 2 months."
   ]
  },
  {
   "cell_type": "code",
   "execution_count": null,
   "metadata": {
    "scrolled": false
   },
   "outputs": [],
   "source": [
    "plt.figure(figsize=(20,20))\n",
    "sns.boxplot(x=\"main_category\", y=\"project_length\",data=ks)\n"
   ]
  },
  {
   "cell_type": "markdown",
   "metadata": {},
   "source": [
    "Next we look into how the project length vary for successful, cancelled and failed projects."
   ]
  },
  {
   "cell_type": "code",
   "execution_count": null,
   "metadata": {
    "scrolled": true
   },
   "outputs": [],
   "source": [
    "plt.figure(figsize=(10,10))\n",
    "sns.boxplot(x=\"state\", y=\"project_length\",data=ks)\n"
   ]
  },
  {
   "cell_type": "markdown",
   "metadata": {},
   "source": [
    "Even though the median looks the same for all three states, successful projects seems to have shorter deadlines. They are less skewed, even though there are still many outliers. \n",
    "\n",
    "We'll look into the different categories again:"
   ]
  },
  {
   "cell_type": "code",
   "execution_count": null,
   "metadata": {
    "scrolled": true
   },
   "outputs": [],
   "source": [
    "plt.figure(figsize=(20,20))\n",
    "sns.set(style=\"ticks\")\n",
    "sns.boxplot(x=\"main_category\", y=\"project_length\", hue=\"state\",data=ks, palette=\"Paired\")\n",
    "sns.despine(offset=10, trim=True)\n"
   ]
  },
  {
   "cell_type": "markdown",
   "metadata": {},
   "source": [
    "We see the duration is shorter for successful projects in all categories.\n",
    "\n",
    "Next we look into the goal per day, which is the ratio between the duration and the total goal. We look into that with regard to the project outcome and also include the categories.\n"
   ]
  },
  {
   "cell_type": "code",
   "execution_count": null,
   "metadata": {
    "scrolled": true
   },
   "outputs": [],
   "source": [
    "ks[[\"state\", \"goal_per_day\"]].groupby(\"state\").describe()"
   ]
  },
  {
   "cell_type": "markdown",
   "metadata": {},
   "source": [
    "We can see, that the maximum goal_per_day for successful projects is 68369. For cancelled and failed projects it is much higher!! Let's look at the distribution of  projects with goal_per_day < 70000"
   ]
  },
  {
   "cell_type": "code",
   "execution_count": null,
   "metadata": {},
   "outputs": [],
   "source": [
    "# Success rate per category\n",
    "test = ks[(ks[\"goal_per_day\"]>70000)].groupby('main_category').state.value_counts().unstack()\n",
    "print(test)\n",
    "# v= test.successful / (test.successful + test.canceled + test.failed)\n",
    "# v=v.sort_values(ascending=True)\n",
    "# v"
   ]
  },
  {
   "cell_type": "code",
   "execution_count": null,
   "metadata": {},
   "outputs": [],
   "source": [
    "plt.figure(figsize=(20,20))\n",
    "plt.yscale(\"log\")\n",
    "sns.boxplot(x=\"main_category\", y=\"goal_per_day\",data=ks[(ks[\"goal_per_day\"]<70000)], palette=\"Paired\",  hue=\"state\")"
   ]
  },
  {
   "cell_type": "markdown",
   "metadata": {},
   "source": [
    "## Temporal Analysis"
   ]
  },
  {
   "cell_type": "code",
   "execution_count": null,
   "metadata": {},
   "outputs": [],
   "source": [
    "describe()"
   ]
  }
 ],
 "metadata": {
  "kernelspec": {
   "display_name": "Python 3",
   "language": "python",
   "name": "python3"
  },
  "language_info": {
   "codemirror_mode": {
    "name": "ipython",
    "version": 3
   },
   "file_extension": ".py",
   "mimetype": "text/x-python",
   "name": "python",
   "nbconvert_exporter": "python",
   "pygments_lexer": "ipython3",
   "version": "3.6.5"
  },
  "toc": {
   "base_numbering": 1,
   "nav_menu": {},
   "number_sections": true,
   "sideBar": true,
   "skip_h1_title": false,
   "title_cell": "Table of Contents",
   "title_sidebar": "Contents",
   "toc_cell": false,
   "toc_position": {
    "height": "calc(100% - 180px)",
    "left": "10px",
    "top": "150px",
    "width": "165px"
   },
   "toc_section_display": true,
   "toc_window_display": true
  }
 },
 "nbformat": 4,
 "nbformat_minor": 2
}
